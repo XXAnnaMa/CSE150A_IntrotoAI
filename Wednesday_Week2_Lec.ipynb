{
  "cells": [
    {
      "cell_type": "markdown",
      "source": [
        "### Hangman game. What unitility functions do we want to maximize and minimize. What expectation do we want to maximize.\n",
        "**Ans:** In a Hangman game, the utility functions and expectations depend on the player's role. For the guesser, the goal is to maximize the probability of correctly guessing the word by choosing letters that provide the most information (e.g., common or high-frequency letters), while minimizing incorrect guesses to conserve lives. The guesser aims to maximize the expected reduction in possible word candidates with each guess. For the chooser, the goal is to maximize the difficulty of the word by selecting words that are hard to guess (e.g., those with rare letters or fewer vowels) and minimize the amount of information revealed with each correct guess, thereby reducing the guesser’s likelihood of success. Both roles involve optimizing their decisions dynamically based on the game state to align with these objectives."
      ],
      "metadata": {
        "id": "llOMPLWpinUt"
      },
      "id": "llOMPLWpinUt"
    }
  ],
  "metadata": {
    "kernelspec": {
      "display_name": "Python 3 (ipykernel)",
      "language": "python",
      "name": "python3"
    },
    "language_info": {
      "codemirror_mode": {
        "name": "ipython",
        "version": 3
      },
      "file_extension": ".py",
      "mimetype": "text/x-python",
      "name": "python",
      "nbconvert_exporter": "python",
      "pygments_lexer": "ipython3",
      "version": "3.8.10"
    },
    "colab": {
      "provenance": []
    }
  },
  "nbformat": 4,
  "nbformat_minor": 5
}