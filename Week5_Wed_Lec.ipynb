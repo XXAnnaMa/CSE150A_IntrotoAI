{
  "cells": [
    {
      "cell_type": "code",
      "source": [
        "!git clone https://github.com/ucsd-cse150a-w25/viterbigraph.git"
      ],
      "metadata": {
        "colab": {
          "base_uri": "https://localhost:8080/"
        },
        "id": "yFFV8CTMp8ls",
        "outputId": "0f8af715-0804-4e93-daa7-d282d17c9143"
      },
      "id": "yFFV8CTMp8ls",
      "execution_count": 4,
      "outputs": [
        {
          "output_type": "stream",
          "name": "stdout",
          "text": [
            "Cloning into 'viterbigraph'...\n",
            "remote: Enumerating objects: 23, done.\u001b[K\n",
            "remote: Total 23 (delta 0), reused 0 (delta 0), pack-reused 23 (from 1)\u001b[K\n",
            "Receiving objects: 100% (23/23), 1.15 MiB | 12.89 MiB/s, done.\n",
            "Resolving deltas: 100% (4/4), done.\n"
          ]
        }
      ]
    },
    {
      "cell_type": "code",
      "source": [
        "import glob"
      ],
      "metadata": {
        "id": "ClCl1-1k5Ysr"
      },
      "id": "ClCl1-1k5Ysr",
      "execution_count": 5,
      "outputs": []
    },
    {
      "cell_type": "code",
      "source": [
        "glob.glob('./viterbigraph/*.py')"
      ],
      "metadata": {
        "colab": {
          "base_uri": "https://localhost:8080/"
        },
        "id": "We23oht85gyx",
        "outputId": "eb7bd0cf-ca5b-45c1-db06-2ec15976a380"
      },
      "id": "We23oht85gyx",
      "execution_count": 6,
      "outputs": [
        {
          "output_type": "execute_result",
          "data": {
            "text/plain": [
              "['./viterbigraph/nxgraph.py']"
            ]
          },
          "metadata": {},
          "execution_count": 6
        }
      ]
    },
    {
      "cell_type": "code",
      "source": [
        "import networkx as nx\n",
        "\n",
        "mygraph = nx.DiGraph()\n",
        "\n",
        "#start nodes\n",
        "mygraph.add_edge('Start', 'Seattle', weight=0)\n",
        "mygraph.add_edge('Start', 'Newport', weight=0)\n",
        "mygraph.add_edge('Start', 'San Francisco', weight=0)\n",
        "mygraph.add_edge('Start', 'USC', weight=0)\n",
        "\n",
        "#day 1\n",
        "\n",
        "mygraph.add_edge('Seattle', 'Boise', weight=494)\n",
        "mygraph.add_edge('Newport', 'Boise', weight=561)\n",
        "mygraph.add_edge('San Francisco', 'Boise', weight=648)\n",
        "mygraph.add_edge('San Francisco', 'Salt Lake', weight=748)\n",
        "mygraph.add_edge('San Francisco', 'Las Vegas', weight=630)\n",
        "mygraph.add_edge('USC', 'Las Vegas', weight=275)\n",
        "mygraph.add_edge('USC', 'Tucson', weight=528)\n",
        "\n",
        "#day 2\n",
        "\n",
        "mygraph.add_edge('Boise', 'Casper', weight=669)\n",
        "mygraph.add_edge('Salt Lake', 'Casper', weight=402)\n",
        "mygraph.add_edge('Salt Lake', 'Denver', weight=493)\n",
        "mygraph.add_edge('Salt Lake', 'Albuquerque', weight=609)\n",
        "mygraph.add_edge('Las Vegas', 'Albuquerque', weight=576)\n",
        "mygraph.add_edge('Las Vegas', 'El Paso', weight=724)\n",
        "mygraph.add_edge('Tucson', 'Albuquerque', weight=452)\n",
        "mygraph.add_edge('Tucson', 'El Paso', weight=320)\n",
        "\n",
        "#day 3\n",
        "\n",
        "mygraph.add_edge('Casper', 'Pierre', weight=347)\n",
        "mygraph.add_edge('Casper', 'Lincoln', weight=635)\n",
        "mygraph.add_edge('Casper', 'Amarillo', weight=705)\n",
        "mygraph.add_edge('Denver', 'Pierre', weight=526)\n",
        "mygraph.add_edge('Denver', 'Lincoln', weight=667)\n",
        "mygraph.add_edge('Denver', 'Amarillo', weight=424)\n",
        "mygraph.add_edge('Albuquerque', 'Amarillo', weight=288)\n",
        "mygraph.add_edge('Albuquerque', 'San Antonio', weight=714)\n",
        "mygraph.add_edge('El Paso', 'Amarillo', weight=421)\n",
        "mygraph.add_edge('El Paso', 'San Antonio', weight=555)\n",
        "\n",
        "#day 4\n",
        "\n",
        "mygraph.add_edge('Pierre', 'Minneapolis', weight=478)\n",
        "mygraph.add_edge('Pierre', 'Kansas City', weight=598)\n",
        "mygraph.add_edge('Lincoln', 'Minneapolis', weight=438)\n",
        "mygraph.add_edge('Lincoln', 'Kansas City', weight=207)\n",
        "mygraph.add_edge('Lincoln', 'Ft. Smith', weight=567)\n",
        "mygraph.add_edge('Amarillo', 'Kansas City', weight=613)\n",
        "mygraph.add_edge('Amarillo', 'Ft. Smith', weight=539)\n",
        "mygraph.add_edge('Amarillo', 'Houston', weight=614)\n",
        "mygraph.add_edge('San Antonio', 'Houston', weight=199)\n",
        "\n",
        "#day 5\n",
        "\n",
        "mygraph.add_edge('Minneapolis', 'Chicago', weight=465)\n",
        "mygraph.add_edge('Minneapolis', 'St. Louis', weight=593)\n",
        "mygraph.add_edge('Kansas City', 'Chicago', weight=527)\n",
        "mygraph.add_edge('Kansas City', 'St. Louis', weight=256)\n",
        "mygraph.add_edge('Kansas City', 'Nashville', weight=618)\n",
        "mygraph.add_edge('Ft. Smith', 'St. Louis', weight=545)\n",
        "mygraph.add_edge('Ft. Smith', 'Nashville', weight=501)\n",
        "mygraph.add_edge('Ft. Smith', 'New Orleans', weight=601)\n",
        "mygraph.add_edge('Houston', 'New Orleans', weight=352)\n",
        "\n",
        "#day 6\n",
        "\n",
        "mygraph.add_edge('Chicago', 'Pittsburg', weight=532)\n",
        "mygraph.add_edge('Chicago', 'Roanoke', weight=717)\n",
        "mygraph.add_edge('St. Louis', 'Pittsburg', weight=659)\n",
        "mygraph.add_edge('St. Louis', 'Roanoke', weight=689)\n",
        "mygraph.add_edge('Nashville', 'Roanoke', weight=435)\n",
        "mygraph.add_edge('Nashville', 'Charlotte', weight=434)\n",
        "mygraph.add_edge('Nashville', 'Talluhassee', weight=495)\n",
        "mygraph.add_edge('New Orleans', 'Charlotte', weight=725)\n",
        "mygraph.add_edge('New Orleans', 'Talluhassee', weight=388)\n",
        "\n",
        "#day 7\n",
        "\n",
        "mygraph.add_edge('Pittsburg', 'MIT', weight=680)\n",
        "mygraph.add_edge('Pittsburg', 'Washington', weight=259)\n",
        "mygraph.add_edge('Roanoke', 'MIT', weight=750)\n",
        "mygraph.add_edge('Roanoke', 'Washington', weight=233)\n",
        "mygraph.add_edge('Roanoke', 'Wilmington', weight=306)\n",
        "mygraph.add_edge('Roanoke', 'Daytona Beach', weight=480)\n",
        "mygraph.add_edge('Charlotte', 'Washington', weight=397)\n",
        "mygraph.add_edge('Charlotte', 'Wilmington', weight=206)\n",
        "mygraph.add_edge('Charlotte', 'Daytona Beach', weight=480)\n",
        "mygraph.add_edge('Talluhassee', 'Wilmington', weight=496)\n",
        "mygraph.add_edge('Talluhassee', 'Daytona Beach', weight=316)\n",
        "\n",
        "\n",
        "#end nodes\n",
        "\n",
        "mygraph.add_edge('MIT', 'End', weight=0)\n",
        "mygraph.add_edge('Washington', 'End', weight=0)\n",
        "mygraph.add_edge('Wilmington', 'End', weight=0)\n",
        "mygraph.add_edge('Daytona Beach', 'End', weight=0)"
      ],
      "metadata": {
        "id": "FJU5WVPY5grq"
      },
      "id": "FJU5WVPY5grq",
      "execution_count": 7,
      "outputs": []
    },
    {
      "cell_type": "code",
      "source": [
        "mygraph"
      ],
      "metadata": {
        "colab": {
          "base_uri": "https://localhost:8080/"
        },
        "id": "lXnDXPiT5gdB",
        "outputId": "3a6e903b-4f0e-424b-ec39-2de388bf869c"
      },
      "id": "lXnDXPiT5gdB",
      "execution_count": 8,
      "outputs": [
        {
          "output_type": "execute_result",
          "data": {
            "text/plain": [
              "<networkx.classes.digraph.DiGraph at 0x7ed7a4f986d0>"
            ]
          },
          "metadata": {},
          "execution_count": 8
        }
      ]
    },
    {
      "cell_type": "code",
      "source": [
        "mygraph.degree()"
      ],
      "metadata": {
        "colab": {
          "base_uri": "https://localhost:8080/"
        },
        "id": "L8mZAovg6koB",
        "outputId": "68d1b20b-ae1c-48f0-c78f-aede684a77c3"
      },
      "id": "L8mZAovg6koB",
      "execution_count": 9,
      "outputs": [
        {
          "output_type": "execute_result",
          "data": {
            "text/plain": [
              "DiDegreeView({'Start': 4, 'Seattle': 2, 'Newport': 2, 'San Francisco': 4, 'USC': 3, 'Boise': 4, 'Salt Lake': 4, 'Las Vegas': 4, 'Tucson': 3, 'Casper': 5, 'Denver': 4, 'Albuquerque': 5, 'El Paso': 4, 'Pierre': 4, 'Lincoln': 5, 'Amarillo': 7, 'San Antonio': 3, 'Minneapolis': 4, 'Kansas City': 6, 'Ft. Smith': 5, 'Houston': 3, 'Chicago': 4, 'St. Louis': 5, 'Nashville': 5, 'New Orleans': 4, 'Pittsburg': 4, 'Roanoke': 7, 'Charlotte': 5, 'Talluhassee': 4, 'MIT': 3, 'Washington': 4, 'Wilmington': 4, 'Daytona Beach': 4, 'End': 4})"
            ]
          },
          "metadata": {},
          "execution_count": 9
        }
      ]
    },
    {
      "cell_type": "code",
      "source": [
        "type(mygraph.degree())"
      ],
      "metadata": {
        "colab": {
          "base_uri": "https://localhost:8080/",
          "height": 187
        },
        "id": "7nSOGlHD6vfA",
        "outputId": "04378789-4875-4293-d8b6-ebb056289999"
      },
      "id": "7nSOGlHD6vfA",
      "execution_count": 10,
      "outputs": [
        {
          "output_type": "execute_result",
          "data": {
            "text/plain": [
              "networkx.classes.reportviews.DiDegreeView"
            ],
            "text/html": [
              "<div style=\"max-width:800px; border: 1px solid var(--colab-border-color);\"><style>\n",
              "      pre.function-repr-contents {\n",
              "        overflow-x: auto;\n",
              "        padding: 8px 12px;\n",
              "        max-height: 500px;\n",
              "      }\n",
              "\n",
              "      pre.function-repr-contents.function-repr-contents-collapsed {\n",
              "        cursor: pointer;\n",
              "        max-height: 100px;\n",
              "      }\n",
              "    </style>\n",
              "    <pre style=\"white-space: initial; background:\n",
              "         var(--colab-secondary-surface-color); padding: 8px 12px;\n",
              "         border-bottom: 1px solid var(--colab-border-color);\"><b>networkx.classes.reportviews.DiDegreeView</b><br/>def __call__(nbunch=None, weight=None)</pre><pre class=\"function-repr-contents function-repr-contents-collapsed\" style=\"\"><a class=\"filepath\" style=\"display:none\" href=\"#\">/usr/local/lib/python3.11/dist-packages/networkx/classes/reportviews.py</a>A View class for degree of nodes in a NetworkX Graph\n",
              "\n",
              "The functionality is like dict.items() with (node, degree) pairs.\n",
              "Additional functionality includes read-only lookup of node degree,\n",
              "and calling with optional features nbunch (for only a subset of nodes)\n",
              "and weight (use edge weights to compute degree).\n",
              "\n",
              "Parameters\n",
              "==========\n",
              "graph : NetworkX graph-like class\n",
              "nbunch : node, container of nodes, or None meaning all nodes (default=None)\n",
              "weight : bool or string (default=None)\n",
              "\n",
              "Notes\n",
              "-----\n",
              "DegreeView can still lookup any node even if nbunch is specified.\n",
              "\n",
              "Examples\n",
              "--------\n",
              "&gt;&gt;&gt; G = nx.path_graph(3)\n",
              "&gt;&gt;&gt; DV = G.degree()\n",
              "&gt;&gt;&gt; assert DV[2] == 1\n",
              "&gt;&gt;&gt; assert sum(deg for n, deg in DV) == 4\n",
              "\n",
              "&gt;&gt;&gt; DVweight = G.degree(weight=&quot;span&quot;)\n",
              "&gt;&gt;&gt; G.add_edge(1, 2, span=34)\n",
              "&gt;&gt;&gt; DVweight[2]\n",
              "34\n",
              "&gt;&gt;&gt; DVweight[0]  #  default edge weight is 1\n",
              "1\n",
              "&gt;&gt;&gt; sum(span for n, span in DVweight)  # sum weighted degrees\n",
              "70\n",
              "\n",
              "&gt;&gt;&gt; DVnbunch = G.degree(nbunch=(1, 2))\n",
              "&gt;&gt;&gt; assert len(list(DVnbunch)) == 2  # iteration over nbunch only</pre>\n",
              "      <script>\n",
              "      if (google.colab.kernel.accessAllowed && google.colab.files && google.colab.files.view) {\n",
              "        for (const element of document.querySelectorAll('.filepath')) {\n",
              "          element.style.display = 'block'\n",
              "          element.onclick = (event) => {\n",
              "            event.preventDefault();\n",
              "            event.stopPropagation();\n",
              "            google.colab.files.view(element.textContent, 383);\n",
              "          };\n",
              "        }\n",
              "      }\n",
              "      for (const element of document.querySelectorAll('.function-repr-contents')) {\n",
              "        element.onclick = (event) => {\n",
              "          event.preventDefault();\n",
              "          event.stopPropagation();\n",
              "          element.classList.toggle('function-repr-contents-collapsed');\n",
              "        };\n",
              "      }\n",
              "      </script>\n",
              "      </div>"
            ]
          },
          "metadata": {},
          "execution_count": 10
        }
      ]
    },
    {
      "cell_type": "code",
      "source": [
        "mygraph.nodes()"
      ],
      "metadata": {
        "colab": {
          "base_uri": "https://localhost:8080/"
        },
        "id": "lqpBwse46vYf",
        "outputId": "84c15719-abb8-4b81-dff1-aba6ffe2e67e"
      },
      "id": "lqpBwse46vYf",
      "execution_count": 11,
      "outputs": [
        {
          "output_type": "execute_result",
          "data": {
            "text/plain": [
              "NodeView(('Start', 'Seattle', 'Newport', 'San Francisco', 'USC', 'Boise', 'Salt Lake', 'Las Vegas', 'Tucson', 'Casper', 'Denver', 'Albuquerque', 'El Paso', 'Pierre', 'Lincoln', 'Amarillo', 'San Antonio', 'Minneapolis', 'Kansas City', 'Ft. Smith', 'Houston', 'Chicago', 'St. Louis', 'Nashville', 'New Orleans', 'Pittsburg', 'Roanoke', 'Charlotte', 'Talluhassee', 'MIT', 'Washington', 'Wilmington', 'Daytona Beach', 'End'))"
            ]
          },
          "metadata": {},
          "execution_count": 11
        }
      ]
    },
    {
      "cell_type": "code",
      "source": [
        "for node in mygraph.nodes():\n",
        "  print(node)"
      ],
      "metadata": {
        "colab": {
          "base_uri": "https://localhost:8080/"
        },
        "id": "_s2ghfLo66XR",
        "outputId": "11f5722c-8852-4a3a-80d0-915efb76307a"
      },
      "id": "_s2ghfLo66XR",
      "execution_count": 12,
      "outputs": [
        {
          "output_type": "stream",
          "name": "stdout",
          "text": [
            "Start\n",
            "Seattle\n",
            "Newport\n",
            "San Francisco\n",
            "USC\n",
            "Boise\n",
            "Salt Lake\n",
            "Las Vegas\n",
            "Tucson\n",
            "Casper\n",
            "Denver\n",
            "Albuquerque\n",
            "El Paso\n",
            "Pierre\n",
            "Lincoln\n",
            "Amarillo\n",
            "San Antonio\n",
            "Minneapolis\n",
            "Kansas City\n",
            "Ft. Smith\n",
            "Houston\n",
            "Chicago\n",
            "St. Louis\n",
            "Nashville\n",
            "New Orleans\n",
            "Pittsburg\n",
            "Roanoke\n",
            "Charlotte\n",
            "Talluhassee\n",
            "MIT\n",
            "Washington\n",
            "Wilmington\n",
            "Daytona Beach\n",
            "End\n"
          ]
        }
      ]
    }
  ],
  "metadata": {
    "kernelspec": {
      "display_name": "Python 3 (ipykernel)",
      "language": "python",
      "name": "python3"
    },
    "language_info": {
      "codemirror_mode": {
        "name": "ipython",
        "version": 3
      },
      "file_extension": ".py",
      "mimetype": "text/x-python",
      "name": "python",
      "nbconvert_exporter": "python",
      "pygments_lexer": "ipython3",
      "version": "3.8.10"
    },
    "colab": {
      "provenance": []
    }
  },
  "nbformat": 4,
  "nbformat_minor": 5
}