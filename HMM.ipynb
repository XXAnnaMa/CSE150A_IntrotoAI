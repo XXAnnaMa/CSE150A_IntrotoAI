{
  "nbformat": 4,
  "nbformat_minor": 0,
  "metadata": {
    "colab": {
      "provenance": []
    },
    "kernelspec": {
      "name": "python3",
      "display_name": "Python 3"
    },
    "language_info": {
      "name": "python"
    }
  },
  "cells": [
    {
      "cell_type": "code",
      "execution_count": 1,
      "metadata": {
        "id": "iqb-RInXYAux"
      },
      "outputs": [],
      "source": [
        "import operator\n",
        "import numpy as np"
      ]
    },
    {
      "cell_type": "code",
      "source": [
        "class HMM:\n",
        "  def __init__(self, trans_matrix, em_matrix, initial_state = None):\n",
        "    self.trans_matrix = trans_matrix\n",
        "    self.em_matrix = em_matrix\n",
        "    initial_state = initial_state or [0.5, 0.5]\n",
        "  def em_dist(self, evidence):\n",
        "    if evidence: # if ev is TRUE\n",
        "      return self.em_matrix[0]\n",
        "    else:\n",
        "      return self.em_matrix[1]"
      ],
      "metadata": {
        "id": "HG1z0PpHYIby"
      },
      "execution_count": 2,
      "outputs": []
    },
    {
      "cell_type": "code",
      "source": [
        "umbrella_transition_M = [[0.7, 0.3], [0.3, 0.7]]\n",
        "umbrella_em_M = [[0.9, 0.2], [0.1, 0.8]]"
      ],
      "metadata": {
        "id": "OYj6WWSTYIra"
      },
      "execution_count": 3,
      "outputs": []
    },
    {
      "cell_type": "code",
      "source": [
        "umbrellaHMM = HMM(umbrella_transition_M, umbrella_em_M)"
      ],
      "metadata": {
        "id": "iMUGlGn7YJEK"
      },
      "execution_count": 4,
      "outputs": []
    },
    {
      "cell_type": "code",
      "source": [
        "umbrellaHMM.em_dist(True)"
      ],
      "metadata": {
        "colab": {
          "base_uri": "https://localhost:8080/"
        },
        "id": "YyKSbHBkaejD",
        "outputId": "d4fb3757-e212-4617-dab6-0f2d9e00adc6"
      },
      "execution_count": 5,
      "outputs": [
        {
          "output_type": "execute_result",
          "data": {
            "text/plain": [
              "[0.9, 0.2]"
            ]
          },
          "metadata": {},
          "execution_count": 5
        }
      ]
    },
    {
      "cell_type": "code",
      "source": [
        "evidence = [True, True, False, True, True]\n",
        "for ev in evidence:\n",
        "  print(umbrellaHMM.em_dist(ev))"
      ],
      "metadata": {
        "colab": {
          "base_uri": "https://localhost:8080/"
        },
        "id": "EdQteXc5alUu",
        "outputId": "938c507b-75d0-44ef-a581-ef09686bb818"
      },
      "execution_count": 6,
      "outputs": [
        {
          "output_type": "stream",
          "name": "stdout",
          "text": [
            "[0.9, 0.2]\n",
            "[0.9, 0.2]\n",
            "[0.1, 0.8]\n",
            "[0.9, 0.2]\n",
            "[0.9, 0.2]\n"
          ]
        }
      ]
    },
    {
      "cell_type": "code",
      "source": [
        "umbrellaHMM.trans_matrix"
      ],
      "metadata": {
        "colab": {
          "base_uri": "https://localhost:8080/"
        },
        "id": "H2ig5VFFalyt",
        "outputId": "c359247f-3a11-4495-a328-f63b7acc10fc"
      },
      "execution_count": 7,
      "outputs": [
        {
          "output_type": "execute_result",
          "data": {
            "text/plain": [
              "[[0.7, 0.3], [0.3, 0.7]]"
            ]
          },
          "metadata": {},
          "execution_count": 7
        }
      ]
    },
    {
      "cell_type": "code",
      "source": [
        "umbrellaHMM.em_matrix"
      ],
      "metadata": {
        "colab": {
          "base_uri": "https://localhost:8080/"
        },
        "id": "zl7KN4_TbKmK",
        "outputId": "f7b842a9-5c6f-4ee2-d29d-55012f3e78f0"
      },
      "execution_count": 8,
      "outputs": [
        {
          "output_type": "execute_result",
          "data": {
            "text/plain": [
              "[[0.9, 0.2], [0.1, 0.8]]"
            ]
          },
          "metadata": {},
          "execution_count": 8
        }
      ]
    },
    {
      "cell_type": "markdown",
      "source": [
        "# HMM Solving Algorithms"
      ],
      "metadata": {
        "id": "nSiFZldNbTwt"
      }
    },
    {
      "cell_type": "code",
      "source": [
        "# implement backward"
      ],
      "metadata": {
        "id": "y_sj0LYPbK2k"
      },
      "execution_count": null,
      "outputs": []
    },
    {
      "cell_type": "code",
      "source": [
        "# implement forward"
      ],
      "metadata": {
        "id": "pM3vR-7rbjkf"
      },
      "execution_count": null,
      "outputs": []
    },
    {
      "cell_type": "code",
      "source": [
        "# implement our forward and backward algo"
      ],
      "metadata": {
        "id": "N9CcVUdHbphK"
      },
      "execution_count": null,
      "outputs": []
    }
  ]
}