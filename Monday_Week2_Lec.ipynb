{
  "cells": [
    {
      "cell_type": "code",
      "execution_count": 8,
      "id": "d29dde1c",
      "metadata": {
        "scrolled": true,
        "id": "d29dde1c"
      },
      "outputs": [],
      "source": [
        "import numpy as np\n",
        "from numpy import array"
      ]
    },
    {
      "cell_type": "code",
      "execution_count": 12,
      "id": "d839d6b4",
      "metadata": {
        "id": "d839d6b4",
        "colab": {
          "base_uri": "https://localhost:8080/"
        },
        "outputId": "95e3d9fc-24e3-4229-f21a-4904e541a017"
      },
      "outputs": [
        {
          "output_type": "execute_result",
          "data": {
            "text/plain": [
              "array([0, 1, 1, 1, 1, 0, 0, 0, 1, 0, 1, 1, 0, 0])"
            ]
          },
          "metadata": {},
          "execution_count": 12
        }
      ],
      "source": [
        "myData = np.array([0, 1, 1, 1, 1, 0, 0, 0, 1, 0, 1, 1, 0, 0])\n",
        "myData"
      ]
    },
    {
      "cell_type": "code",
      "execution_count": 13,
      "id": "d2e819fe",
      "metadata": {
        "id": "d2e819fe",
        "colab": {
          "base_uri": "https://localhost:8080/"
        },
        "outputId": "98d2918b-484b-449c-aea4-b5dc1925feb1"
      },
      "outputs": [
        {
          "output_type": "execute_result",
          "data": {
            "text/plain": [
              "array([0, 1, 1, 1, 1, 0, 0, 0, 1, 0, 1, 1, 0, 0])"
            ]
          },
          "metadata": {},
          "execution_count": 13
        }
      ],
      "source": [
        "array([0, 1, 1, 1, 1, 0, 0, 0, 1, 0, 1, 1, 0, 0])"
      ]
    },
    {
      "cell_type": "code",
      "execution_count": 14,
      "id": "d391120c",
      "metadata": {
        "id": "d391120c",
        "colab": {
          "base_uri": "https://localhost:8080/"
        },
        "outputId": "f4d4e1d5-1cc3-4a3a-c7c9-8300c5c22317"
      },
      "outputs": [
        {
          "output_type": "execute_result",
          "data": {
            "text/plain": [
              "14"
            ]
          },
          "metadata": {},
          "execution_count": 14
        }
      ],
      "source": [
        "myData.shape[0]"
      ]
    },
    {
      "cell_type": "code",
      "source": [
        "myTs = myData.sum()"
      ],
      "metadata": {
        "id": "fDFwYlrBKYry"
      },
      "id": "fDFwYlrBKYry",
      "execution_count": 15,
      "outputs": []
    },
    {
      "cell_type": "code",
      "source": [
        "def clacProb(myPriorCount, myCount):\n",
        "  return myPriorCount/myCount"
      ],
      "metadata": {
        "id": "n_XqRwZ4KcUc"
      },
      "id": "n_XqRwZ4KcUc",
      "execution_count": 16,
      "outputs": []
    },
    {
      "cell_type": "code",
      "source": [
        "clacProb(myTs, myData.shape[0])"
      ],
      "metadata": {
        "colab": {
          "base_uri": "https://localhost:8080/"
        },
        "id": "CIjIdzA9h-8N",
        "outputId": "fd910c49-96fd-4c93-d568-caddb10365b5"
      },
      "id": "CIjIdzA9h-8N",
      "execution_count": 17,
      "outputs": [
        {
          "output_type": "execute_result",
          "data": {
            "text/plain": [
              "0.5"
            ]
          },
          "metadata": {},
          "execution_count": 17
        }
      ]
    },
    {
      "cell_type": "code",
      "source": [
        "myFs = 1 - clacProb(myTs, myData.shape[0])"
      ],
      "metadata": {
        "id": "if1n6actiFgr"
      },
      "id": "if1n6actiFgr",
      "execution_count": 18,
      "outputs": []
    },
    {
      "cell_type": "code",
      "source": [
        "myFs"
      ],
      "metadata": {
        "colab": {
          "base_uri": "https://localhost:8080/"
        },
        "id": "S739HefQiNGN",
        "outputId": "0f2007c0-dd54-48a0-c809-0c0cf2f2dcfd"
      },
      "id": "S739HefQiNGN",
      "execution_count": 19,
      "outputs": [
        {
          "output_type": "execute_result",
          "data": {
            "text/plain": [
              "0.5"
            ]
          },
          "metadata": {},
          "execution_count": 19
        }
      ]
    },
    {
      "cell_type": "markdown",
      "source": [
        "### Given the minecraft foundational model. How would we apply probability to the model and what's the agent?\n",
        "**Ans:** In the Minecraft foundational model, probability is applied to guide the agent's decision-making under uncertainty, using stochastic policies to choose actions based on their likelihood of success, modeling environmental randomness, or balancing exploration and exploitation. The agent, a simulated entity within the Minecraft world, perceives its surroundings, takes actions like mining or building, and operates towards goals defined by a reward system. This probabilistic approach enables the agent to adapt and perform complex tasks in dynamic and uncertain environments."
      ],
      "metadata": {
        "id": "llOMPLWpinUt"
      },
      "id": "llOMPLWpinUt"
    }
  ],
  "metadata": {
    "kernelspec": {
      "display_name": "Python 3 (ipykernel)",
      "language": "python",
      "name": "python3"
    },
    "language_info": {
      "codemirror_mode": {
        "name": "ipython",
        "version": 3
      },
      "file_extension": ".py",
      "mimetype": "text/x-python",
      "name": "python",
      "nbconvert_exporter": "python",
      "pygments_lexer": "ipython3",
      "version": "3.8.10"
    },
    "colab": {
      "provenance": []
    }
  },
  "nbformat": 4,
  "nbformat_minor": 5
}