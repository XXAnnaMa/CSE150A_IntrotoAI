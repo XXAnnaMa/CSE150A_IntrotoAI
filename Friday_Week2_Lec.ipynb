{
  "cells": [
    {
      "cell_type": "code",
      "source": [
        "import networkx as nx"
      ],
      "metadata": {
        "id": "92xurafshA9h"
      },
      "id": "92xurafshA9h",
      "execution_count": 1,
      "outputs": []
    },
    {
      "cell_type": "code",
      "source": [
        "my_a = 0.5\n",
        "def myFxn(a, b):\n",
        "  print() # print a\n",
        "  print() # print b"
      ],
      "metadata": {
        "id": "3NWtv3Nside3"
      },
      "id": "3NWtv3Nside3",
      "execution_count": 2,
      "outputs": []
    }
  ],
  "metadata": {
    "kernelspec": {
      "display_name": "Python 3 (ipykernel)",
      "language": "python",
      "name": "python3"
    },
    "language_info": {
      "codemirror_mode": {
        "name": "ipython",
        "version": 3
      },
      "file_extension": ".py",
      "mimetype": "text/x-python",
      "name": "python",
      "nbconvert_exporter": "python",
      "pygments_lexer": "ipython3",
      "version": "3.8.10"
    },
    "colab": {
      "provenance": []
    }
  },
  "nbformat": 4,
  "nbformat_minor": 5
}